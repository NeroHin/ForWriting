{
 "cells": [
  {
   "cell_type": "code",
   "execution_count": null,
   "metadata": {},
   "outputs": [],
   "source": [
    "from sklearn.datasets import load_breast_cancer\n",
    "from sklearn.model_selection import train_test_split\n",
    "from sklearn.ensemble import VotingClassifier, StackingClassifier\n",
    "from sklearn.svm import SVC\n",
    "from sklearn.tree import DecisionTreeClassifier\n",
    "from sklearn.linear_model import LogisticRegression\n",
    "from sklearn.metrics import classification_report\n",
    "import matplotlib.pyplot as plt\n",
    "import warnings\n",
    "\n",
    "warnings.filterwarnings('ignore')\n",
    "\n",
    "# Load the data and format it as a dataframe\n",
    "cancer = load_breast_cancer(as_frame=True)\n",
    "\n",
    "# print the first 5 rows of the data\n",
    "display(cancer.data.head())\n",
    "\n",
    "# training model\n",
    "def model_training(model,train_data,train_target,test_data,test_target):\n",
    "    model.fit(train_data,train_target)\n",
    "    return model\n",
    "\n",
    "# print the accuracy of the model\n",
    "def model_evaluation(model,test_data,predict_target):\n",
    "    print(f'Model Evaluation:{ model.score(test_data,predict_target)}\\n')\n",
    "\n",
    "# print classification report\n",
    "def print_classification_report(model,test_data,test_target):\n",
    "    predict_target = model.predict(test_data)\n",
    "    print(f'Classification Report:\\n{classification_report(y_true=test_target, y_pred=predict_target)}\\n')\n",
    "    "
   ]
  },
  {
   "cell_type": "code",
   "execution_count": null,
   "metadata": {},
   "outputs": [],
   "source": [
    "\n",
    "# split the data into training and testing\n",
    "cancer_data_train,cancer_data_test,cancer_target_train,cancer_target_test = train_test_split(cancer.data,cancer.target, test_size=0.2, random_state=42)\n",
    "\n",
    "# model training\n",
    "models = [SVC(),DecisionTreeClassifier(),LogisticRegression()]\n",
    "\n",
    "\n",
    "# single model training\n",
    "for model in models:\n",
    "    print(f'Model: {model} \\n')\n",
    "    model_training(model=model, train_data=cancer_data_train, train_target=cancer_target_train, test_data=cancer_data_test, test_target=cancer_target_test)\n",
    "    model_evaluation(model=model, test_data=cancer_data_test, predict_target=cancer_target_test)\n",
    "    print_classification_report(model=model, test_data=cancer_data_test, test_target=cancer_target_test)\n",
    "    "
   ]
  },
  {
   "cell_type": "code",
   "execution_count": null,
   "metadata": {},
   "outputs": [],
   "source": [
    "# voting classifier, voting='hard' means majority voting\n",
    "voting_model = VotingClassifier(estimators=[('svm',SVC()),('dt',DecisionTreeClassifier()),('lr',LogisticRegression())],voting='hard')\n",
    "# stacking classifier, final_estimator is the final estimator which will be used to predict the output\n",
    "stack_model = StackingClassifier(estimators=[('svm',SVC()),('ada',DecisionTreeClassifier()),('ext',LogisticRegression())],final_estimator=DecisionTreeClassifier())\n",
    "\n",
    "ensemble_models = [voting_model,stack_model]\n",
    "# ensemble model training\n",
    "for model in ensemble_models:\n",
    "    print('Model:',model)\n",
    "    model_training(model=model, train_data=cancer_data_train, train_target=cancer_target_train, test_data=cancer_data_test, test_target=cancer_target_test)\n",
    "    model_evaluation(model=model, test_data=cancer_data_test, predict_target=cancer_target_test)\n",
    "    print_classification_report(model=model, test_data=cancer_data_test, test_target=cancer_target_test)"
   ]
  },
  {
   "cell_type": "code",
   "execution_count": null,
   "metadata": {},
   "outputs": [],
   "source": []
  }
 ],
 "metadata": {
  "kernelspec": {
   "display_name": "Python 3.7.11 ('Research')",
   "language": "python",
   "name": "python3"
  },
  "language_info": {
   "codemirror_mode": {
    "name": "ipython",
    "version": 3
   },
   "file_extension": ".py",
   "mimetype": "text/x-python",
   "name": "python",
   "nbconvert_exporter": "python",
   "pygments_lexer": "ipython3",
   "version": "3.7.11"
  },
  "orig_nbformat": 4,
  "vscode": {
   "interpreter": {
    "hash": "df831c49162da7e36ee390de774850456fe39ea2aa2f18de316c1c9a8a009a8f"
   }
  }
 },
 "nbformat": 4,
 "nbformat_minor": 2
}
